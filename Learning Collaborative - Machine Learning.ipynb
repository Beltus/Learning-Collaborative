{
 "cells": [
  {
   "cell_type": "markdown",
   "id": "3680d3b4",
   "metadata": {},
   "source": [
    "# UNIVARIATE LINEAR REGRESSION "
   ]
  },
  {
   "cell_type": "markdown",
   "id": "b7c1da89",
   "metadata": {},
   "source": [
    "## Table of Contents¶\n",
    "* Introduction\n",
    "* Loading Data\n",
    "* The Hypothesis\n",
    "* The Cost Function\n",
    "* Gradient Descent\n",
    "* Model Training\n",
    "* Model Evaluation\n",
    "* Conclusion\n",
    "* References"
   ]
  },
  {
   "attachments": {},
   "cell_type": "markdown",
   "id": "971b6040",
   "metadata": {},
   "source": [
    "## Introduction\n",
    "\n",
    "\n",
    "This notebook is designe to help deepen your knowledge and understanding of the key underlying concepts that form the foundations of supervised regression model. These skills can be expanded to other related real-life projects such as stock price prediction"
   ]
  },
  {
   "cell_type": "markdown",
   "id": "a6786591",
   "metadata": {},
   "source": [
    "## Import Libraries"
   ]
  },
  {
   "cell_type": "code",
   "execution_count": 11,
   "id": "bb4953e9",
   "metadata": {},
   "outputs": [],
   "source": [
    "# import all the lib\n",
    "import pandas as pd\n",
    "import matplotlib.pyplot as plt\n",
    "import seaborn as sns\n",
    "import numpy as np"
   ]
  },
  {
   "cell_type": "markdown",
   "id": "48743b5d",
   "metadata": {},
   "source": [
    "## Load Dataset "
   ]
  },
  {
   "cell_type": "code",
   "execution_count": 35,
   "id": "e1606b33",
   "metadata": {},
   "outputs": [
    {
     "name": "stdout",
     "output_type": "stream",
     "text": [
      "      x\n",
      "0  24.0\n",
      "1  50.0\n",
      "2  15.0\n",
      "3  38.0\n",
      "4  87.0\n"
     ]
    }
   ],
   "source": [
    "# Get the data\n",
    "train_data = pd.read_csv('train.csv')\n",
    "test_data = pd.read_csv('test.csv')\n",
    "\n",
    "# Set X and y for training\n",
    "X_train = pd.DataFrame(data = train_data['x'])\n",
    "y = pd.DataFrame(data = train_data['y'])\n",
    "\n",
    "# Set X_test and y_test for evaluation\n",
    "X_test_data = pd.DataFrame(data = test_data['x'])\n",
    "y_test = pd.DataFrame(data = test_data['y'])\n",
    "\n",
    "# Row 213 of the training data has no y value; as a result, we will drop it.\n",
    "X_train.drop([213], inplace=True)\n",
    "y.drop([213], inplace=True)\n",
    "\n",
    "print(X_train.head())\n",
    "\n",
    "# Convert the dataframes to a numpy arrays\n",
    "X = X_train.to_numpy()\n",
    "X_test = X_test_data.to_numpy()"
   ]
  },
  {
   "cell_type": "markdown",
   "id": "48e99d72",
   "metadata": {},
   "source": [
    "# Linear Regression From Scratch - Andrew Ng Style"
   ]
  },
  {
   "attachments": {},
   "cell_type": "markdown",
   "id": "ed701ce6",
   "metadata": {},
   "source": [
    "## Task 1: Hypothesis "
   ]
  },
  {
   "cell_type": "code",
   "execution_count": 41,
   "id": "67fa55e2",
   "metadata": {},
   "outputs": [],
   "source": [
    "# The hypothesis\n",
    "def h(x, theta_0 = 0, theta_1 = 0):\n",
    "    \"\"\"\n",
    "    calculates the predicted values (or predicted targets) for a given set of inputs and thetas.\n",
    "    :param x: inputs (feature values) - Numpy array of floats \n",
    "    :param theta_0: intercept - float\n",
    "    :param theta_1: slope - float\n",
    "    :return: predicted targets - Numpy array of floats\n",
    "    \n",
    "    \"\"\"\n",
    "    return theta_0 + (theta_1 * x)"
   ]
  },
  {
   "attachments": {},
   "cell_type": "markdown",
   "id": "321079bf",
   "metadata": {},
   "source": [
    "## Task 2: Cost Function"
   ]
  },
  {
   "cell_type": "code",
   "execution_count": 42,
   "id": "99e3a662",
   "metadata": {},
   "outputs": [],
   "source": [
    "# Cost function\n",
    "def J(theta_0, theta_1, X, y):\n",
    "    \"\"\"\n",
    "     calculates the total error for a given set of inputs and thetas.\n",
    "    :param theta_0: intercept - float\n",
    "    :param theta_1: slope - float\n",
    "    :param X: inputs (feature values) - Numpy array of floats\n",
    "    :param y: inputs (actual target values) - Numpy array of floats \n",
    "    :return: total error - floats\n",
    "    \n",
    "    \"\"\"\n",
    "    diff = (np.subtract(h(X, theta_0, theta_1),np.asarray(y)))\n",
    "    diff_squared = np.square(diff)\n",
    "    return (diff_squared.sum()/(len(X)*2))\n"
   ]
  },
  {
   "attachments": {},
   "cell_type": "markdown",
   "id": "becbe4a7",
   "metadata": {},
   "source": [
    "## Task 3: Gradient Descent\n"
   ]
  },
  {
   "cell_type": "code",
   "execution_count": 43,
   "id": "63192251",
   "metadata": {},
   "outputs": [],
   "source": [
    "# Gradient descent function\n",
    "def gradient(theta_0, theta_1, alpha, X, y):\n",
    "    \"\"\"\n",
    "     calculates the gradient descent for a given set of inputs and thetas.\n",
    "    :param theta_0: intercept - float\n",
    "    :param theta_1: slope - float\n",
    "    :param alpha: learning rate - float\n",
    "    :param X: inputs (feature values) - Numpy array of floats\n",
    "    :param y: inputs (actual target values) - Numpy array of floats \n",
    "    :return: calculated theta_0 and theta_1 - tuple of floats\n",
    "    \n",
    "    \"\"\"\n",
    "    my_array_0 = (np.subtract(h(X, theta_0, theta_1),np.asarray(y)))\n",
    "    my_array_1 = np.matmul(np.transpose(my_array_0), X)\n",
    "    \n",
    "    theta_0_temp = (alpha / len(X)) * my_array_0.sum()\n",
    "    theta_1_temp = (alpha / len(X)) * my_array_1.sum()\n",
    "    \n",
    "    new_theta_0 = theta_0-theta_0_temp\n",
    "    new_theta_1 = theta_1-theta_1_temp\n",
    "    \n",
    "    return (new_theta_0, new_theta_1) "
   ]
  },
  {
   "cell_type": "markdown",
   "id": "e8062611",
   "metadata": {},
   "source": [
    "## Task 4: Model Training"
   ]
  },
  {
   "cell_type": "code",
   "execution_count": 44,
   "id": "cf43d71a",
   "metadata": {},
   "outputs": [
    {
     "name": "stdout",
     "output_type": "stream",
     "text": [
      "initial Cost: 1670.0624130893364\n",
      "cost: 743.1010875141254\n",
      "\n",
      "Iteration: 1\n",
      "diff: 926.9613255752109\n",
      "theta 0: 0.004993986917045781\n",
      "theta 1: 0.33354245845185376\n",
      "cost: 331.86123601466835\n",
      "\n",
      "Iteration: 2\n",
      "diff: 411.2398514994571\n",
      "theta 0: 0.008319284972241516\n",
      "theta 1: 0.5557035214498387\n",
      "cost: 149.41757755535286\n",
      "\n",
      "Iteration: 3\n",
      "diff: 182.4436584593155\n",
      "theta 0: 0.010533127355656115\n",
      "theta 1: 0.7036773052035966\n",
      "cost: 68.47773575109734\n",
      "\n",
      "Iteration: 4\n",
      "diff: 80.93984180425552\n",
      "theta 0: 0.012006667742524593\n",
      "theta 1: 0.8022375187713469\n",
      "cost: 32.569345994371076\n",
      "\n",
      "Iteration: 5\n",
      "diff: 35.908389756726265\n",
      "theta 0: 0.012987118705779484\n",
      "theta 1: 0.8678850693676075\n",
      "cost: 16.63884219635945\n",
      "\n",
      "Iteration: 6\n",
      "diff: 15.930503798011625\n",
      "theta 0: 0.01363913995457535\n",
      "theta 1: 0.9116106382126296\n",
      "cost: 9.571386539860526\n",
      "\n",
      "Iteration: 7\n",
      "diff: 7.067455656498925\n",
      "theta 0: 0.01407240560255936\n",
      "theta 1: 0.9407347363616418\n",
      "cost: 6.435959653629739\n",
      "\n",
      "Iteration: 8\n",
      "diff: 3.1354268862307872\n",
      "theta 0: 0.014359965767857044\n",
      "theta 1: 0.9601333019877012\n",
      "cost: 5.044949586914292\n",
      "\n",
      "Iteration: 9\n",
      "diff: 1.391010066715447\n",
      "theta 0: 0.014550476597125748\n",
      "theta 1: 0.9730540281668935\n",
      "cost: 4.42783773356473\n",
      "\n",
      "Iteration: 10\n",
      "diff: 0.6171118533495621\n",
      "theta 0: 0.014676346259828754\n",
      "theta 1: 0.9816600904650488\n",
      "cost: 4.154060361947503\n",
      "\n",
      "Iteration: 11\n",
      "diff: 0.2737773716172267\n",
      "theta 0: 0.014759160712111483\n",
      "theta 1: 0.9873923049996323\n",
      "cost: 4.032600910583452\n",
      "\n",
      "Iteration: 12\n",
      "diff: 0.12145945136405167\n",
      "theta 0: 0.014813297609683026\n",
      "theta 1: 0.9912103493470457\n",
      "cost: 3.978716229786244\n",
      "\n",
      "Iteration: 13\n",
      "diff: 0.05388468079720754\n",
      "theta 0: 0.014848333409675602\n",
      "theta 1: 0.993753431411396\n",
      "cost: 3.9548106191456855\n",
      "\n",
      "Iteration: 14\n",
      "diff: 0.023905610640558628\n",
      "theta 0: 0.014870646657594662\n",
      "theta 1: 0.9954473053779638\n",
      "cost: 3.9442050114502574\n",
      "\n",
      "Iteration: 15\n",
      "diff: 0.010605607695428176\n",
      "theta 0: 0.014884485881074308\n",
      "theta 1: 0.9965755513231513\n",
      "cost: 3.939499856219159\n",
      "\n",
      "Iteration: 16\n",
      "diff: 0.004705155231098157\n",
      "theta 0: 0.01489268087681991\n",
      "theta 1: 0.9973270520871346\n",
      "cost: 3.937412395092854\n",
      "\n",
      "Iteration: 17\n",
      "diff: 0.00208746112630509\n",
      "theta 0: 0.014897116474137632\n",
      "theta 1: 0.9978276159698669\n",
      "cost: 3.9364862554882945\n",
      "\n",
      "Iteration: 18\n",
      "diff: 0.0009261396045596726\n",
      "theta 0: 0.01489904809236768\n",
      "theta 1: 0.9981610395106341\n",
      "cost: 3.9360753279851814\n",
      "\n",
      "Iteration: 19\n",
      "diff: 0.0004109275031130011\n",
      "theta 0: 0.014899311922731294\n",
      "theta 1: 0.9983831366740062\n",
      "cost: 3.935892970698156\n",
      "\n",
      "Iteration: 20\n",
      "diff: 0.0001823572870254253\n",
      "theta 0: 0.014898464923159441\n",
      "theta 1: 0.9985310832033687\n",
      "cost: 3.9358120169773207\n",
      "\n",
      "Iteration: 21\n",
      "diff: 8.095372083527508e-05\n",
      "theta 0: 0.014896878063986185\n",
      "theta 1: 0.9986296405702794\n",
      "cost: 3.935776050235738\n",
      "\n",
      "Iteration: 22\n",
      "diff: 3.596674158279356e-05\n",
      "theta 0: 0.01489479843566663\n",
      "theta 1: 0.9986953015309791\n",
      "cost: 3.9357600416526908\n",
      "\n",
      "Iteration: 23\n",
      "diff: 1.6008583047177893e-05\n",
      "theta 0: 0.014892390616570841\n",
      "theta 1: 0.9987390513376072\n",
      "cost: 3.9357528873684697\n",
      "\n",
      "Iteration: 24\n",
      "diff: 7.154284221044804e-06\n",
      "theta 0: 0.014889764226634685\n",
      "theta 1: 0.9987682068850972\n",
      "cost: 3.9357496612340626\n",
      "\n",
      "Iteration: 25\n",
      "diff: 3.2261344071748965e-06\n",
      "theta 0: 0.014886992279889703\n",
      "theta 1: 0.9987876417030486\n",
      "cost: 3.935748177798221\n",
      "\n",
      "Iteration: 26\n",
      "diff: 1.483435841720393e-06\n",
      "theta 0: 0.014884123408445894\n",
      "theta 1: 0.9988006018802705\n",
      "cost: 3.935747467500917\n",
      "\n",
      "Iteration: 27\n",
      "diff: 7.102973036410276e-07\n",
      "theta 0: 0.014881190004462095\n",
      "theta 1: 0.9988092495237824\n"
     ]
    },
    {
     "data": {
      "image/png": "[encoded data removed]",
      "text/plain": [
       "<Figure size 432x288 with 1 Axes>"
      ]
     },
     "metadata": {
      "needs_background": "light"
     },
     "output_type": "display_data"
    }
   ],
   "source": [
    "# Initialize theta_0, theta_1 and the learning rate \n",
    "alpha = 0.0001\n",
    "theta_0 = 0\n",
    "theta_1 = 0\n",
    "\n",
    "# Convergence threshold\n",
    "my_diff = 0.000001\n",
    "\n",
    "# Initial cost value\n",
    "diff = J(theta_0, theta_1, X, y)\n",
    "print(\"initial Cost: {}\".format(J(theta_0, theta_1, X, y)))\n",
    "\n",
    "# We will count the number of iterations\n",
    "my_iter = 0\n",
    "\n",
    "while diff >= my_diff:\n",
    "    # Draw the current hypothesis and the training \n",
    "    # set to the x-y plane.\n",
    "    # We will draw all the hypothesis lines so that\n",
    "    # the reader can see how the hypothesis changes\n",
    "    # with each iteration.\n",
    "    my_line = np.linspace(0,100)\n",
    "    z = theta_0 + theta_1 * (my_line)\n",
    "    plt.scatter(X,y)\n",
    "    plt.plot(my_line,z, 'r')\n",
    "    \n",
    "    # calculate initial cost value\n",
    "    initial_cost = J(theta_0, theta_1, X, y)\n",
    "    \n",
    "    # calculate and assign the new theta_0 and theta_1 values\n",
    "    theta_0, theta_1 = gradient(theta_0, theta_1, alpha, X, y)\n",
    "    \n",
    "    # calculate the consecutive cost value\n",
    "    new_cost = J(theta_0, theta_1, X, y)\n",
    "    print(\"cost: {}\".format(new_cost))\n",
    "    \n",
    "    # calculate the difference between the consecutive\n",
    "    # cost values\n",
    "    diff = initial_cost - new_cost\n",
    "    \n",
    "    my_iter += 1\n",
    "    \n",
    "    print()\n",
    "    print(\"Iteration: {}\".format(my_iter))\n",
    "    print(\"diff: {}\".format(diff))\n",
    "    print(\"theta 0: {}\".format(theta_0))\n",
    "    print(\"theta 1: {}\".format(theta_1))\n",
    "    \n",
    "plt.show() "
   ]
  },
  {
   "cell_type": "code",
   "execution_count": 45,
   "id": "c22f04d5",
   "metadata": {},
   "outputs": [
    {
     "name": "stdout",
     "output_type": "stream",
     "text": [
      "initial Cost: 207505.03742208227\n",
      "\n",
      "Iteration: 10000\n",
      "Cost: 11.116903205237131\n",
      "Diff: 0.0003601674161615165\n",
      "\n",
      "Iteration: 20000\n",
      "Cost: 8.284498617558627\n",
      "Diff: 0.00021814652931340106\n",
      "\n",
      "Iteration: 30000\n",
      "Cost: 6.568965222022944\n",
      "Diff: 0.00013212718895427855\n",
      "\n",
      "Iteration: 40000\n",
      "Cost: 5.529899389408219\n",
      "Diff: 8.002691638608894e-05\n",
      "\n",
      "Iteration: 50000\n",
      "Cost: 4.900557047651989\n",
      "Diff: 4.847077574865466e-05\n",
      "\n",
      "Iteration: 60000\n",
      "Cost: 4.51937640375524\n",
      "Diff: 2.935782369295481e-05\n",
      "\n",
      "Iteration: 70000\n",
      "Cost: 4.288502563491975\n",
      "Diff: 1.7781473444777873e-05\n",
      "\n",
      "Iteration: 80000\n",
      "Cost: 4.14866668522438\n",
      "Diff: 1.0769899064122512e-05\n",
      "\n",
      "Iteration: 90000\n",
      "Cost: 4.063970762860149\n",
      "Diff: 6.5231222912132125e-06\n",
      "\n",
      "Iteration: 100000\n",
      "Cost: 4.012672059308543\n",
      "Diff: 3.950930662632857e-06\n",
      "\n",
      "Iteration: 110000\n",
      "Cost: 3.981601413725882\n",
      "Diff: 2.3930032897467868e-06\n",
      "\n",
      "Iteration: 120000\n",
      "Cost: 3.9627825167541064\n",
      "Diff: 1.449396417108062e-06\n",
      "\n",
      "Final Cost: 3.9538191331407084\n",
      "Diff: 9.999593206799773e-07\n",
      "Theta 0: -0.5060916482754081\n",
      "Theta 1: 1.006631498606685\n",
      "Iteration: 127403\n",
      "\n"
     ]
    },
    {
     "data": {
      "image/png": "[encoded data removed]",
      "text/plain": [
       "<Figure size 432x288 with 1 Axes>"
      ]
     },
     "metadata": {
      "needs_background": "light"
     },
     "output_type": "display_data"
    }
   ],
   "source": [
    "# Initialize theta_0, theta_1 and the learning rate \n",
    "alpha = 0.0001\n",
    "theta_0 = -10\n",
    "theta_1 = -10\n",
    "\n",
    "# Convergence threshold\n",
    "my_diff = 0.000001\n",
    "\n",
    "# Initial cost value\n",
    "diff = J(theta_0, theta_1, X, y)\n",
    "\n",
    "# We will count the number of iterations\n",
    "my_iter = 0\n",
    "print(\"initial Cost: {}\".format(J(theta_0, theta_1, X, y)))\n",
    "\n",
    "while diff >= my_diff:\n",
    "    # calculate initial cost value\n",
    "    initial_cost = J(theta_0, theta_1, X, y)\n",
    "    \n",
    "    # calculate and assign the new theta_0 and theta_1 values\n",
    "    theta_0, theta_1 = gradient(theta_0, theta_1, alpha, X, y)\n",
    "    \n",
    "    # calculate the consecutive cost value\n",
    "    new_cost = J(theta_0, theta_1, X, y)\n",
    "    \n",
    "    # calculate the difference between the consecutive\n",
    "    # cost values\n",
    "    diff = initial_cost - new_cost\n",
    "    \n",
    "    # print for every 10000 iteration\n",
    "    my_iter += 1\n",
    "    if my_iter%10000 ==0:\n",
    "        print()\n",
    "        print(\"Iteration: {}\".format(my_iter))\n",
    "        print(\"Cost: {}\".format(new_cost))\n",
    "        print(\"Diff: {}\".format(diff))\n",
    "\n",
    "print()\n",
    "print(\"Final Cost: {}\".format(new_cost))\n",
    "print(\"Diff: {}\".format(diff))\n",
    "print(\"Theta 0: {}\".format(theta_0))\n",
    "print(\"Theta 1: {}\".format(theta_1))\n",
    "print(\"Iteration: {}\".format(my_iter))\n",
    "print()\n",
    "\n",
    "# Draw the final hypothesis and the training \n",
    "# set to the x-y plane.\n",
    "# We will not draw all the hypothesis lines \n",
    "# because of the high iteration count.\n",
    "my_line = np.linspace(0,100)\n",
    "z = theta_0 + theta_1 * (my_line)\n",
    "plt.scatter(X,y)\n",
    "plt.plot(my_line,z, 'r')\n",
    "plt.show() "
   ]
  },
  {
   "cell_type": "markdown",
   "id": "ae25064d",
   "metadata": {},
   "source": [
    "## Task 5: Model Evaluation on Test Set"
   ]
  },
  {
   "cell_type": "code",
   "execution_count": 46,
   "id": "17488d4b",
   "metadata": {},
   "outputs": [
    {
     "name": "stdout",
     "output_type": "stream",
     "text": [
      "Cost of test data: 4.7015230120840545\n"
     ]
    },
    {
     "data": {
      "image/png": "[encoded data removed]",
      "text/plain": [
       "<Figure size 432x288 with 1 Axes>"
      ]
     },
     "metadata": {
      "needs_background": "light"
     },
     "output_type": "display_data"
    }
   ],
   "source": [
    "# calculate the cost value for the test set\n",
    "cost_test = J(theta_0, theta_1, X_test, y_test)\n",
    "print(\"Cost of test data: {}\".format(cost_test))\n",
    "\n",
    "# Draw the final hypothesis and the test \n",
    "# set to the x-y plane.\n",
    "my_line = np.linspace(0,100)\n",
    "z = theta_0 + theta_1 * (my_line)\n",
    "plt.scatter(X_test,y_test)\n",
    "plt.plot(my_line,z, 'r')\n",
    "plt.show() "
   ]
  },
  {
   "cell_type": "markdown",
   "id": "46d36b66",
   "metadata": {},
   "source": [
    "## Prediction on Test Set"
   ]
  },
  {
   "cell_type": "code",
   "execution_count": 53,
   "id": "704b76ae",
   "metadata": {},
   "outputs": [
    {
     "data": {
      "text/plain": [
       "[60757.06078120104,\n",
       " 115566.84225871775,\n",
       " 123126.81211768558,\n",
       " 64537.04571068495,\n",
       " 53197.09092223323,\n",
       " 63592.04947831397,\n",
       " 116511.83849108873,\n",
       " 110841.86109686285,\n",
       " 54142.0871546042]"
      ]
     },
     "execution_count": 53,
     "metadata": {},
     "output_type": "execute_result"
    }
   ],
   "source": [
    "x_test = X_test.to_list()   #features\n",
    "Y_test = y_test.to_list()\n",
    "\n",
    "y_preds = []\n",
    "for i in range(len(x_test)):\n",
    "\n",
    "    y_pred = w_final* x_test[i] + b_final \n",
    "    \n",
    "    y_preds.append(y_pred)\n",
    "    \n",
    "y_preds "
   ]
  },
  {
   "cell_type": "code",
   "execution_count": 54,
   "id": "57bc551e",
   "metadata": {},
   "outputs": [
    {
     "data": {
      "text/plain": [
       "[57189.0,\n",
       " 116969.0,\n",
       " 122391.0,\n",
       " 57081.0,\n",
       " 56642.0,\n",
       " 56957.0,\n",
       " 112635.0,\n",
       " 105582.0,\n",
       " 60150.0]"
      ]
     },
     "execution_count": 54,
     "metadata": {},
     "output_type": "execute_result"
    }
   ],
   "source": [
    "Y_test"
   ]
  },
  {
   "cell_type": "code",
   "execution_count": null,
   "id": "d95badc1",
   "metadata": {},
   "outputs": [],
   "source": [
    "compute_gradient(x, y, w, b)"
   ]
  }
 ],
 "metadata": {
  "kernelspec": {
   "display_name": "Python 3 (ipykernel)",
   "language": "python",
   "name": "python3"
  },
  "language_info": {
   "codemirror_mode": {
    "name": "ipython",
    "version": 3
   },
   "file_extension": ".py",
   "mimetype": "text/x-python",
   "name": "python",
   "nbconvert_exporter": "python",
   "pygments_lexer": "ipython3",
   "version": "3.7.13"
  }
 },
 "nbformat": 4,
 "nbformat_minor": 5
}
